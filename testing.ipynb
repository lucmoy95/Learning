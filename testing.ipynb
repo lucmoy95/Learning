{
 "cells": [
  {
   "cell_type": "markdown",
   "metadata": {},
   "source": [
    "## Python Class"
   ]
  },
  {
   "cell_type": "code",
   "execution_count": 1,
   "metadata": {},
   "outputs": [],
   "source": [
    "class Staff:\n",
    "\n",
    "    age = 20\n",
    "    gender = \"Male\"\n",
    "\n",
    "    def __init__(self, income):\n",
    "        \n",
    "        self.income = income\n",
    "\n",
    "    def birthday(self):\n",
    "\n",
    "        self.age = self.age + 1\n",
    "\n",
    "    def promotion(self):\n",
    "\n",
    "        self.income = self.income + (self.income*0.2)\n",
    "    \n"
   ]
  },
  {
   "cell_type": "code",
   "execution_count": 2,
   "metadata": {},
   "outputs": [],
   "source": [
    "class Teacher(Staff):\n",
    "\n",
    "    subject = \"Mathematics\"\n"
   ]
  },
  {
   "cell_type": "code",
   "execution_count": 3,
   "metadata": {},
   "outputs": [],
   "source": [
    "a = Teacher(4213)"
   ]
  },
  {
   "cell_type": "code",
   "execution_count": 4,
   "metadata": {},
   "outputs": [
    {
     "data": {
      "text/plain": [
       "4213"
      ]
     },
     "execution_count": 4,
     "metadata": {},
     "output_type": "execute_result"
    }
   ],
   "source": [
    "a.income"
   ]
  },
  {
   "cell_type": "code",
   "execution_count": 5,
   "metadata": {},
   "outputs": [],
   "source": [
    "a.promotion()"
   ]
  },
  {
   "cell_type": "code",
   "execution_count": 6,
   "metadata": {},
   "outputs": [
    {
     "data": {
      "text/plain": [
       "5055.6"
      ]
     },
     "execution_count": 6,
     "metadata": {},
     "output_type": "execute_result"
    }
   ],
   "source": [
    "a.income"
   ]
  },
  {
   "cell_type": "code",
   "execution_count": 7,
   "metadata": {},
   "outputs": [
    {
     "data": {
      "text/plain": [
       "'Mathematics'"
      ]
     },
     "execution_count": 7,
     "metadata": {},
     "output_type": "execute_result"
    }
   ],
   "source": [
    "a.subject"
   ]
  },
  {
   "cell_type": "markdown",
   "metadata": {},
   "source": [
    "## Wrapper around KernelDensity"
   ]
  },
  {
   "cell_type": "code",
   "execution_count": 2,
   "metadata": {},
   "outputs": [],
   "source": [
    "from sklearn.pipeline import Pipeline\n",
    "from sklearn.neighbors import KernelDensity\n",
    "from sklearn.base import BaseEstimator, TransformerMixin\n",
    "from sklearn.model_selection import GridSearchCV\n",
    "from sklearn.utils.estimator_checks import check_estimator\n",
    "import numpy as np\n",
    "import pandas as pd"
   ]
  },
  {
   "cell_type": "code",
   "execution_count": 3,
   "metadata": {},
   "outputs": [],
   "source": [
    "from sklearn.base import BaseEstimator\n",
    "from sklearn.neighbors import KernelDensity\n",
    "\n",
    "class KernelDensityEstimator(BaseEstimator):\n",
    "\n",
    "    _estimator_type = \"density_estimator\"\n",
    "\n",
    "    def __init__(self, bandwidth=1.0, kernel=\"gaussian\", n_samples=5, random_state=1):\n",
    "        \n",
    "        self.bandwidth = bandwidth\n",
    "        self.kernel = kernel\n",
    "        self.kde = KernelDensity(bandwidth=self.bandwidth, kernel=self.kernel)\n",
    "        self.n_samples = n_samples\n",
    "        self.random_state = random_state\n",
    "\n",
    "    def fit(self, X, y=None):\n",
    "        \n",
    "        self.kde.set_params(bandwidth=self.bandwidth, kernel=self.kernel)\n",
    "        self.kde.fit(X)\n",
    "        return self\n",
    "    \n",
    "    def transform(self, X):\n",
    "        # Perform density estimation and return the log-likelihood scores\n",
    "        return self.kde.score_samples(X)\n",
    "    \n",
    "    def fit_predict(self, X, y=None):\n",
    "        \n",
    "        return self.fit(X).predict(X)\n",
    "    \n",
    "    def predict(self, X):\n",
    "        # Perform density estimation and return the log-likelihood scores\n",
    "        return self.kde.score_samples(X)\n",
    "    \n",
    "    # def get_params(self, deep=True):\n",
    "    #     return {\n",
    "    #         \"bandwidth\": self.bandwidth,\n",
    "    #         \"kernel\": self.kernel,\n",
    "    #         \"n_samples\": self.n_samples,\n",
    "    #         \"random_state\": self.random_state,\n",
    "    #     }\n",
    "\n",
    "    # def set_params(self, **parameters):\n",
    "        \n",
    "    #     for parameter, value in parameters.items():\n",
    "    #         setattr(self, parameter, value)\n",
    "        \n",
    "    #     return self\n"
   ]
  },
  {
   "cell_type": "code",
   "execution_count": 4,
   "metadata": {},
   "outputs": [],
   "source": [
    "kde = KernelDensityEstimator()"
   ]
  },
  {
   "cell_type": "code",
   "execution_count": 5,
   "metadata": {},
   "outputs": [
    {
     "data": {
      "text/html": [
       "<div>\n",
       "<style scoped>\n",
       "    .dataframe tbody tr th:only-of-type {\n",
       "        vertical-align: middle;\n",
       "    }\n",
       "\n",
       "    .dataframe tbody tr th {\n",
       "        vertical-align: top;\n",
       "    }\n",
       "\n",
       "    .dataframe thead th {\n",
       "        text-align: right;\n",
       "    }\n",
       "</style>\n",
       "<table border=\"1\" class=\"dataframe\">\n",
       "  <thead>\n",
       "    <tr style=\"text-align: right;\">\n",
       "      <th></th>\n",
       "      <th>X</th>\n",
       "    </tr>\n",
       "  </thead>\n",
       "  <tbody>\n",
       "    <tr>\n",
       "      <th>0</th>\n",
       "      <td>1.491043</td>\n",
       "    </tr>\n",
       "    <tr>\n",
       "      <th>1</th>\n",
       "      <td>1.239346</td>\n",
       "    </tr>\n",
       "    <tr>\n",
       "      <th>2</th>\n",
       "      <td>0.629002</td>\n",
       "    </tr>\n",
       "    <tr>\n",
       "      <th>3</th>\n",
       "      <td>0.997488</td>\n",
       "    </tr>\n",
       "    <tr>\n",
       "      <th>4</th>\n",
       "      <td>1.204905</td>\n",
       "    </tr>\n",
       "  </tbody>\n",
       "</table>\n",
       "</div>"
      ],
      "text/plain": [
       "          X\n",
       "0  1.491043\n",
       "1  1.239346\n",
       "2  0.629002\n",
       "3  0.997488\n",
       "4  1.204905"
      ]
     },
     "execution_count": 5,
     "metadata": {},
     "output_type": "execute_result"
    }
   ],
   "source": [
    "df = pd.read_csv(\"data\\sample_data.csv\", index_col=0)\n",
    "df.head()"
   ]
  },
  {
   "cell_type": "code",
   "execution_count": 6,
   "metadata": {},
   "outputs": [
    {
     "data": {
      "text/plain": [
       "KernelDensityEstimator()"
      ]
     },
     "execution_count": 6,
     "metadata": {},
     "output_type": "execute_result"
    }
   ],
   "source": [
    "kde.fit(df)"
   ]
  },
  {
   "cell_type": "code",
   "execution_count": 7,
   "metadata": {},
   "outputs": [
    {
     "data": {
      "text/plain": [
       "array([-1.66767631, -1.67082804, -1.79637841, ..., -3.42189407,\n",
       "       -3.42526018, -3.42863547])"
      ]
     },
     "execution_count": 7,
     "metadata": {},
     "output_type": "execute_result"
    }
   ],
   "source": [
    "kde.predict(df)"
   ]
  },
  {
   "cell_type": "markdown",
   "metadata": {},
   "source": [
    "## GridSearchCV"
   ]
  },
  {
   "cell_type": "code",
   "execution_count": 8,
   "metadata": {},
   "outputs": [],
   "source": [
    "from sklearn.metrics import make_scorer\n",
    "\n",
    "def my_custom_scorer(estimator, X, y=None):\n",
    "    \n",
    "    log_likelihood = estimator.fit_transform(X)\n",
    "\n",
    "    log_likelihood = log_likelihood[(log_likelihood != float(\"-inf\")) & (log_likelihood != float(\"inf\"))]\n",
    "\n",
    "    return (np.mean(np.exp(log_likelihood)))"
   ]
  },
  {
   "cell_type": "code",
   "execution_count": 9,
   "metadata": {},
   "outputs": [],
   "source": [
    "estimator = KernelDensityEstimator()"
   ]
  },
  {
   "cell_type": "code",
   "execution_count": 10,
   "metadata": {},
   "outputs": [],
   "source": [
    "a = GridSearchCV(estimator, {\"bandwidth\": [0.01, 0.2, 0.003], \"kernel\": [\"gaussian\", \"cosine\", \"linear\", \"tophat\"]}, scoring=my_custom_scorer)"
   ]
  },
  {
   "cell_type": "code",
   "execution_count": 11,
   "metadata": {},
   "outputs": [
    {
     "data": {
      "text/plain": [
       "GridSearchCV(estimator=KernelDensityEstimator(),\n",
       "             param_grid={'bandwidth': [0.01, 0.2, 0.003],\n",
       "                         'kernel': ['gaussian', 'cosine', 'linear', 'tophat']},\n",
       "             scoring=<function my_custom_scorer at 0x0000023932C53A68>)"
      ]
     },
     "execution_count": 11,
     "metadata": {},
     "output_type": "execute_result"
    }
   ],
   "source": [
    "a.fit(df)"
   ]
  },
  {
   "cell_type": "code",
   "execution_count": 12,
   "metadata": {},
   "outputs": [
    {
     "data": {
      "text/plain": [
       "KernelDensityEstimator(bandwidth=0.003, kernel='linear')"
      ]
     },
     "execution_count": 12,
     "metadata": {},
     "output_type": "execute_result"
    }
   ],
   "source": [
    "a.best_estimator_"
   ]
  },
  {
   "cell_type": "code",
   "execution_count": 13,
   "metadata": {},
   "outputs": [
    {
     "data": {
      "text/plain": [
       "0.6666864712609291"
      ]
     },
     "execution_count": 13,
     "metadata": {},
     "output_type": "execute_result"
    }
   ],
   "source": [
    "a.best_score_"
   ]
  },
  {
   "cell_type": "code",
   "execution_count": 14,
   "metadata": {},
   "outputs": [
    {
     "data": {
      "text/plain": [
       "{'bandwidth': 0.003, 'kernel': 'linear'}"
      ]
     },
     "execution_count": 14,
     "metadata": {},
     "output_type": "execute_result"
    }
   ],
   "source": [
    "a.best_params_"
   ]
  },
  {
   "cell_type": "code",
   "execution_count": 22,
   "metadata": {},
   "outputs": [
    {
     "data": {
      "text/plain": [
       "array([0.44376025, 0.46839466, 0.48448306, 0.45040625, 0.38816815,\n",
       "       0.41460514, 0.41623827, 0.4064625 , 0.49632887, 0.5781873 ,\n",
       "       0.66668647, 0.4640625 ])"
      ]
     },
     "execution_count": 22,
     "metadata": {},
     "output_type": "execute_result"
    }
   ],
   "source": [
    "a.cv_results_[\"mean_test_score\"]"
   ]
  },
  {
   "cell_type": "code",
   "execution_count": 21,
   "metadata": {},
   "outputs": [
    {
     "data": {
      "text/plain": [
       "{'cv': None,\n",
       " 'error_score': nan,\n",
       " 'estimator__bandwidth': 1.0,\n",
       " 'estimator__kernel': 'gaussian',\n",
       " 'estimator__n_samples': 5,\n",
       " 'estimator__random_state': 1,\n",
       " 'estimator': KernelDensityEstimator(),\n",
       " 'n_jobs': None,\n",
       " 'param_grid': {'bandwidth': [0.01, 0.2, 0.003],\n",
       "  'kernel': ['gaussian', 'cosine', 'linear', 'tophat']},\n",
       " 'pre_dispatch': '2*n_jobs',\n",
       " 'refit': True,\n",
       " 'return_train_score': False,\n",
       " 'scoring': <function __main__.my_custom_scorer(estimator, X, y=None)>,\n",
       " 'verbose': 0}"
      ]
     },
     "execution_count": 21,
     "metadata": {},
     "output_type": "execute_result"
    }
   ],
   "source": [
    "a.get_params()"
   ]
  },
  {
   "cell_type": "markdown",
   "metadata": {},
   "source": [
    "## Unit testing"
   ]
  },
  {
   "cell_type": "code",
   "execution_count": 34,
   "metadata": {},
   "outputs": [],
   "source": [
    "def my_custom_scorer(y_actual, y_pred):\n",
    "        \"\"\"Custom scoring method for boats.\n",
    "\n",
    "        This method calculates the boats of the observations of the given dataset.\n",
    "\n",
    "        Args:\n",
    "            y_actual (numpy.ndarray): Dataset to be scored. Not required for scoring.\n",
    "            y_pred (numpy.ndarray): Scored log density of the observations given the dataset.\n",
    "        \"\"\"\n",
    "\n",
    "        y_pred = y_pred[(y_pred != float(\"-inf\")) & (y_pred != float(\"inf\"))]\n",
    "\n",
    "        return float((np.mean(np.exp(y_pred))))"
   ]
  },
  {
   "cell_type": "code",
   "execution_count": null,
   "metadata": {},
   "outputs": [],
   "source": [
    "\"boats\""
   ]
  },
  {
   "cell_type": "code",
   "execution_count": 2,
   "metadata": {},
   "outputs": [],
   "source": [
    "import numpy as np\n",
    "from numpy import random\n",
    "\n",
    "df = random.rand(5)"
   ]
  },
  {
   "cell_type": "code",
   "execution_count": 45,
   "metadata": {},
   "outputs": [],
   "source": [
    "pred = df.copy()"
   ]
  },
  {
   "cell_type": "code",
   "execution_count": 46,
   "metadata": {},
   "outputs": [
    {
     "data": {
      "text/plain": [
       "array([0.28912792, 0.84078642, 0.41546704, 0.31160921, 0.06220692])"
      ]
     },
     "execution_count": 46,
     "metadata": {},
     "output_type": "execute_result"
    }
   ],
   "source": [
    "df"
   ]
  },
  {
   "cell_type": "code",
   "execution_count": 53,
   "metadata": {},
   "outputs": [],
   "source": [
    "pred = np.array([float(\"inf\"),1,2,3])"
   ]
  },
  {
   "cell_type": "code",
   "execution_count": 54,
   "metadata": {},
   "outputs": [
    {
     "data": {
      "text/plain": [
       "array([inf,  1.,  2.,  3.])"
      ]
     },
     "execution_count": 54,
     "metadata": {},
     "output_type": "execute_result"
    }
   ],
   "source": [
    "pred"
   ]
  },
  {
   "cell_type": "code",
   "execution_count": 67,
   "metadata": {},
   "outputs": [
    {
     "data": {
      "text/plain": [
       "10.064291616859121"
      ]
     },
     "execution_count": 67,
     "metadata": {},
     "output_type": "execute_result"
    }
   ],
   "source": [
    "my_custom_scorer(y_actual=None, y_pred=pred)"
   ]
  },
  {
   "cell_type": "code",
   "execution_count": 56,
   "metadata": {},
   "outputs": [
    {
     "data": {
      "text/plain": [
       "array([inf,  1.,  2.,  3.])"
      ]
     },
     "execution_count": 56,
     "metadata": {},
     "output_type": "execute_result"
    }
   ],
   "source": [
    "pred"
   ]
  },
  {
   "cell_type": "code",
   "execution_count": 66,
   "metadata": {},
   "outputs": [
    {
     "data": {
      "text/plain": [
       "array([ inf,   1.,   2.,   3.,  inf, -inf,  inf, -inf,  inf, -inf,  inf,\n",
       "       -inf])"
      ]
     },
     "execution_count": 66,
     "metadata": {},
     "output_type": "execute_result"
    }
   ],
   "source": [
    "pred = np.append(pred, [float(\"inf\"), float(\"-inf\")])\n",
    "pred"
   ]
  },
  {
   "cell_type": "code",
   "execution_count": 68,
   "metadata": {},
   "outputs": [],
   "source": [
    "np.random.seed(42)"
   ]
  },
  {
   "cell_type": "code",
   "execution_count": 69,
   "metadata": {},
   "outputs": [],
   "source": [
    "df = np.random.rand(100)"
   ]
  },
  {
   "cell_type": "code",
   "execution_count": 70,
   "metadata": {},
   "outputs": [
    {
     "data": {
      "text/plain": [
       "(100,)"
      ]
     },
     "execution_count": 70,
     "metadata": {},
     "output_type": "execute_result"
    }
   ],
   "source": [
    "df.shape"
   ]
  },
  {
   "cell_type": "code",
   "execution_count": 71,
   "metadata": {},
   "outputs": [
    {
     "data": {
      "text/plain": [
       "array([0.37454012, 0.95071431, 0.73199394, 0.59865848, 0.15601864,\n",
       "       0.15599452, 0.05808361, 0.86617615, 0.60111501, 0.70807258,\n",
       "       0.02058449, 0.96990985, 0.83244264, 0.21233911, 0.18182497,\n",
       "       0.18340451, 0.30424224, 0.52475643, 0.43194502, 0.29122914,\n",
       "       0.61185289, 0.13949386, 0.29214465, 0.36636184, 0.45606998,\n",
       "       0.78517596, 0.19967378, 0.51423444, 0.59241457, 0.04645041,\n",
       "       0.60754485, 0.17052412, 0.06505159, 0.94888554, 0.96563203,\n",
       "       0.80839735, 0.30461377, 0.09767211, 0.68423303, 0.44015249,\n",
       "       0.12203823, 0.49517691, 0.03438852, 0.9093204 , 0.25877998,\n",
       "       0.66252228, 0.31171108, 0.52006802, 0.54671028, 0.18485446,\n",
       "       0.96958463, 0.77513282, 0.93949894, 0.89482735, 0.59789998,\n",
       "       0.92187424, 0.0884925 , 0.19598286, 0.04522729, 0.32533033,\n",
       "       0.38867729, 0.27134903, 0.82873751, 0.35675333, 0.28093451,\n",
       "       0.54269608, 0.14092422, 0.80219698, 0.07455064, 0.98688694,\n",
       "       0.77224477, 0.19871568, 0.00552212, 0.81546143, 0.70685734,\n",
       "       0.72900717, 0.77127035, 0.07404465, 0.35846573, 0.11586906,\n",
       "       0.86310343, 0.62329813, 0.33089802, 0.06355835, 0.31098232,\n",
       "       0.32518332, 0.72960618, 0.63755747, 0.88721274, 0.47221493,\n",
       "       0.11959425, 0.71324479, 0.76078505, 0.5612772 , 0.77096718,\n",
       "       0.4937956 , 0.52273283, 0.42754102, 0.02541913, 0.10789143])"
      ]
     },
     "execution_count": 71,
     "metadata": {},
     "output_type": "execute_result"
    }
   ],
   "source": [
    "df"
   ]
  },
  {
   "cell_type": "code",
   "execution_count": 72,
   "metadata": {},
   "outputs": [],
   "source": [
    "from sklearn.neighbors import KernelDensity\n"
   ]
  },
  {
   "cell_type": "code",
   "execution_count": 81,
   "metadata": {},
   "outputs": [],
   "source": [
    "kde = KernelDensity(bandwidth=1, kernel=\"gaussian\")"
   ]
  },
  {
   "cell_type": "code",
   "execution_count": 82,
   "metadata": {},
   "outputs": [
    {
     "data": {
      "text/plain": [
       "KernelDensity(bandwidth=1)"
      ]
     },
     "execution_count": 82,
     "metadata": {},
     "output_type": "execute_result"
    }
   ],
   "source": [
    "kde.fit(df.reshape(-1,1))"
   ]
  },
  {
   "cell_type": "code",
   "execution_count": 83,
   "metadata": {},
   "outputs": [
    {
     "data": {
      "text/plain": [
       "array([-0.96611354, -1.06834464, -0.99377682, -0.96978789, -1.00680573,\n",
       "       -1.00681263, -1.03924111, -1.03433524, -0.9700828 , -0.98827595,\n",
       "       -1.0539889 , -1.07697771, -1.02258912, -0.99213409, -0.99972233,\n",
       "       -0.99930859, -0.97443268, -0.96349715, -0.96267566, -0.97646901,\n",
       "       -0.97143671, -1.01166202, -0.97632068, -0.96684881, -0.96213099,\n",
       "       -1.00788171, -0.99518013, -0.96300786, -0.96906315, -1.04367827,\n",
       "       -0.97088085, -1.00274911, -1.0366428 , -1.06753975, -1.0750246 ,\n",
       "       -1.01485187, -0.97437682, -1.0250709 , -0.98331464, -0.96243058,\n",
       "       -1.0170637 , -0.96237956, -1.04841   , -1.05087519, -0.98222224,\n",
       "       -0.97924866, -0.97333398, -0.96326662, -0.96484421, -0.99893081,\n",
       "       -1.07682864, -1.00501993, -1.06345662, -1.04512916, -0.96969795,\n",
       "       -1.05600768, -1.02822865, -0.99609547, -1.04415201, -0.97146202,\n",
       "       -0.96498694, -0.97987933, -1.02136243, -0.96779089, -0.97818981,\n",
       "       -0.96456496, -1.01123177, -1.01294249, -1.03317239, -1.08489395,\n",
       "       -1.00421407, -0.99541654, -1.06027577, -1.01707008, -0.98801047,\n",
       "       -0.9930614 , -1.00394389, -1.03335516, -0.96761681, -1.01903956,\n",
       "       -1.03322222, -0.97299594, -0.97074565, -1.03719587, -0.97343894,\n",
       "       -0.97148132, -0.99320423, -0.9751062 , -1.0421872 , -0.96206399,\n",
       "       -1.01784229, -0.98942098, -1.00109161, -0.96598139, -1.00386001,\n",
       "       -0.96234694, -0.96339518, -0.96283259, -1.0520151 , -1.02164636])"
      ]
     },
     "execution_count": 83,
     "metadata": {},
     "output_type": "execute_result"
    }
   ],
   "source": [
    "kde.score_samples(df.reshape(-1,1))"
   ]
  },
  {
   "cell_type": "code",
   "execution_count": 84,
   "metadata": {},
   "outputs": [],
   "source": [
    "np.random.seed(10)\n",
    "df_2 = np.random.rand(10)"
   ]
  },
  {
   "cell_type": "code",
   "execution_count": 85,
   "metadata": {},
   "outputs": [
    {
     "data": {
      "text/plain": [
       "array([0.77132064, 0.02075195, 0.63364823, 0.74880388, 0.49850701,\n",
       "       0.22479665, 0.19806286, 0.76053071, 0.16911084, 0.08833981])"
      ]
     },
     "execution_count": 85,
     "metadata": {},
     "output_type": "execute_result"
    }
   ],
   "source": [
    "df_2"
   ]
  },
  {
   "cell_type": "code",
   "execution_count": 86,
   "metadata": {},
   "outputs": [
    {
     "data": {
      "text/plain": [
       "-10.010108910491624"
      ]
     },
     "execution_count": 86,
     "metadata": {},
     "output_type": "execute_result"
    }
   ],
   "source": [
    "kde.score(df_2.reshape(-1,1))"
   ]
  },
  {
   "cell_type": "code",
   "execution_count": 93,
   "metadata": {},
   "outputs": [
    {
     "data": {
      "text/plain": [
       "array([-0.61075817, -1.64899334, -1.98892849,  1.7428902 , -0.83518917])"
      ]
     },
     "execution_count": 93,
     "metadata": {},
     "output_type": "execute_result"
    }
   ],
   "source": [
    "kde.sample(5, random_state=1).reshape(-1, )"
   ]
  },
  {
   "cell_type": "code",
   "execution_count": null,
   "metadata": {},
   "outputs": [],
   "source": []
  }
 ],
 "metadata": {
  "kernelspec": {
   "display_name": "python3.7_learning",
   "language": "python",
   "name": "python3"
  },
  "language_info": {
   "codemirror_mode": {
    "name": "ipython",
    "version": 3
   },
   "file_extension": ".py",
   "mimetype": "text/x-python",
   "name": "python",
   "nbconvert_exporter": "python",
   "pygments_lexer": "ipython3",
   "version": "3.7.9"
  },
  "orig_nbformat": 4
 },
 "nbformat": 4,
 "nbformat_minor": 2
}
